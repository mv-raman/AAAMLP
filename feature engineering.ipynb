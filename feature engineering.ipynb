{
 "cells": [
  {
   "cell_type": "code",
   "execution_count": 38,
   "metadata": {},
   "outputs": [],
   "source": [
    "import pandas as pd\n",
    "import numpy as np"
   ]
  },
  {
   "cell_type": "code",
   "execution_count": 39,
   "metadata": {},
   "outputs": [],
   "source": [
    "s = pd.date_range('2020-01-06', '2020-01-10',freq ='10H').to_series()"
   ]
  },
  {
   "cell_type": "code",
   "execution_count": 40,
   "metadata": {},
   "outputs": [
    {
     "data": {
      "text/plain": [
       "10"
      ]
     },
     "execution_count": 40,
     "metadata": {},
     "output_type": "execute_result"
    }
   ],
   "source": [
    "len(s)"
   ]
  },
  {
   "cell_type": "code",
   "execution_count": 41,
   "metadata": {},
   "outputs": [
    {
     "data": {
      "text/plain": [
       "2020-01-06 00:00:00   2020-01-06 00:00:00\n",
       "2020-01-06 10:00:00   2020-01-06 10:00:00\n",
       "2020-01-06 20:00:00   2020-01-06 20:00:00\n",
       "2020-01-07 06:00:00   2020-01-07 06:00:00\n",
       "2020-01-07 16:00:00   2020-01-07 16:00:00\n",
       "2020-01-08 02:00:00   2020-01-08 02:00:00\n",
       "2020-01-08 12:00:00   2020-01-08 12:00:00\n",
       "2020-01-08 22:00:00   2020-01-08 22:00:00\n",
       "2020-01-09 08:00:00   2020-01-09 08:00:00\n",
       "2020-01-09 18:00:00   2020-01-09 18:00:00\n",
       "Freq: 10H, dtype: datetime64[ns]"
      ]
     },
     "execution_count": 41,
     "metadata": {},
     "output_type": "execute_result"
    }
   ],
   "source": [
    "s"
   ]
  },
  {
   "cell_type": "code",
   "execution_count": 42,
   "metadata": {},
   "outputs": [
    {
     "name": "stderr",
     "output_type": "stream",
     "text": [
      "/Users/v0m01sk/miniconda3/envs/ml/lib/python3.7/site-packages/ipykernel_launcher.py:7: FutureWarning: Series.dt.weekofyear and Series.dt.week have been deprecated.  Please use Series.dt.isocalendar().week instead.\n",
      "  import sys\n"
     ]
    }
   ],
   "source": [
    "features ={\n",
    "    'dayofweek':s.dt.dayofweek.values,\n",
    "    'dayofyear':s.dt.dayofyear.values,\n",
    "    'hour':s.dt.hour.values,\n",
    "    'is_leap_year':s.dt.is_leap_year.values,\n",
    "    'quarter':s.dt.quarter.values,\n",
    "    'weekofyear':s.dt.weekofyear.values\n",
    "}"
   ]
  },
  {
   "cell_type": "code",
   "execution_count": 43,
   "metadata": {},
   "outputs": [
    {
     "data": {
      "text/plain": [
       "{'dayofweek': array([0, 0, 0, 1, 1, 2, 2, 2, 3, 3]),\n",
       " 'dayofyear': array([6, 6, 6, 7, 7, 8, 8, 8, 9, 9]),\n",
       " 'hour': array([ 0, 10, 20,  6, 16,  2, 12, 22,  8, 18]),\n",
       " 'is_leap_year': array([ True,  True,  True,  True,  True,  True,  True,  True,  True,\n",
       "         True]),\n",
       " 'quarter': array([1, 1, 1, 1, 1, 1, 1, 1, 1, 1]),\n",
       " 'weekofyear': array([2, 2, 2, 2, 2, 2, 2, 2, 2, 2])}"
      ]
     },
     "execution_count": 43,
     "metadata": {},
     "output_type": "execute_result"
    }
   ],
   "source": [
    "features"
   ]
  },
  {
   "cell_type": "code",
   "execution_count": 44,
   "metadata": {},
   "outputs": [],
   "source": [
    "def generate_features(df):\n",
    "    \n",
    "    df.loc[:,'year'] = df['date'].dt.year\n",
    "    df.loc[:,'weekofyear'] = df['date'].dt.weekofyear\n",
    "    df.loc[:,'month'] = df['date'].dt.month\n",
    "    df.loc[:,'dayofweek'] = df['date'].dt.dayofweek\n",
    "    df.loc[:,'weekend'] =(df['date'].dt.weekday>=5).astype(int)\n",
    "    \n",
    "    aggs = {}\n",
    "    \n",
    "    aggs['month'] = ['nunique','mean']\n",
    "    aggs['weekofyear'] = ['nunique','mean']\n",
    "    \n",
    "    aggs['num1'] = ['sum','max','min','mean']\n",
    "    \n",
    "    aggs['customer_id'] = ['size']\n",
    "    \n",
    "    aggs['customer_id'] = ['nunique']\n",
    "    \n",
    "    agg_df = df.groupby('customer_id').agg(aggs)\n",
    "    agg_df = agg_df.reset_index()\n",
    "    return agg_df"
   ]
  },
  {
   "cell_type": "code",
   "execution_count": 45,
   "metadata": {},
   "outputs": [],
   "source": [
    "df = pd.read_csv('./data/cat_in_the_dat_2.csv')"
   ]
  },
  {
   "cell_type": "code",
   "execution_count": 46,
   "metadata": {},
   "outputs": [
    {
     "data": {
      "text/html": [
       "<div>\n",
       "<style scoped>\n",
       "    .dataframe tbody tr th:only-of-type {\n",
       "        vertical-align: middle;\n",
       "    }\n",
       "\n",
       "    .dataframe tbody tr th {\n",
       "        vertical-align: top;\n",
       "    }\n",
       "\n",
       "    .dataframe thead th {\n",
       "        text-align: right;\n",
       "    }\n",
       "</style>\n",
       "<table border=\"1\" class=\"dataframe\">\n",
       "  <thead>\n",
       "    <tr style=\"text-align: right;\">\n",
       "      <th></th>\n",
       "      <th>id</th>\n",
       "      <th>bin_0</th>\n",
       "      <th>bin_1</th>\n",
       "      <th>bin_2</th>\n",
       "      <th>bin_3</th>\n",
       "      <th>bin_4</th>\n",
       "      <th>nom_0</th>\n",
       "      <th>nom_1</th>\n",
       "      <th>nom_2</th>\n",
       "      <th>nom_3</th>\n",
       "      <th>...</th>\n",
       "      <th>nom_9</th>\n",
       "      <th>ord_0</th>\n",
       "      <th>ord_1</th>\n",
       "      <th>ord_2</th>\n",
       "      <th>ord_3</th>\n",
       "      <th>ord_4</th>\n",
       "      <th>ord_5</th>\n",
       "      <th>day</th>\n",
       "      <th>month</th>\n",
       "      <th>target</th>\n",
       "    </tr>\n",
       "  </thead>\n",
       "  <tbody>\n",
       "    <tr>\n",
       "      <th>0</th>\n",
       "      <td>0</td>\n",
       "      <td>0.0</td>\n",
       "      <td>0.0</td>\n",
       "      <td>0.0</td>\n",
       "      <td>F</td>\n",
       "      <td>N</td>\n",
       "      <td>Red</td>\n",
       "      <td>Trapezoid</td>\n",
       "      <td>Hamster</td>\n",
       "      <td>Russia</td>\n",
       "      <td>...</td>\n",
       "      <td>02e7c8990</td>\n",
       "      <td>3.0</td>\n",
       "      <td>Contributor</td>\n",
       "      <td>Hot</td>\n",
       "      <td>c</td>\n",
       "      <td>U</td>\n",
       "      <td>Pw</td>\n",
       "      <td>6.0</td>\n",
       "      <td>3.0</td>\n",
       "      <td>0</td>\n",
       "    </tr>\n",
       "    <tr>\n",
       "      <th>1</th>\n",
       "      <td>1</td>\n",
       "      <td>1.0</td>\n",
       "      <td>1.0</td>\n",
       "      <td>0.0</td>\n",
       "      <td>F</td>\n",
       "      <td>Y</td>\n",
       "      <td>Red</td>\n",
       "      <td>Star</td>\n",
       "      <td>Axolotl</td>\n",
       "      <td>NaN</td>\n",
       "      <td>...</td>\n",
       "      <td>f37df64af</td>\n",
       "      <td>3.0</td>\n",
       "      <td>Grandmaster</td>\n",
       "      <td>Warm</td>\n",
       "      <td>e</td>\n",
       "      <td>X</td>\n",
       "      <td>pE</td>\n",
       "      <td>7.0</td>\n",
       "      <td>7.0</td>\n",
       "      <td>0</td>\n",
       "    </tr>\n",
       "    <tr>\n",
       "      <th>2</th>\n",
       "      <td>2</td>\n",
       "      <td>0.0</td>\n",
       "      <td>1.0</td>\n",
       "      <td>0.0</td>\n",
       "      <td>F</td>\n",
       "      <td>N</td>\n",
       "      <td>Red</td>\n",
       "      <td>NaN</td>\n",
       "      <td>Hamster</td>\n",
       "      <td>Canada</td>\n",
       "      <td>...</td>\n",
       "      <td>NaN</td>\n",
       "      <td>3.0</td>\n",
       "      <td>NaN</td>\n",
       "      <td>Freezing</td>\n",
       "      <td>n</td>\n",
       "      <td>P</td>\n",
       "      <td>eN</td>\n",
       "      <td>5.0</td>\n",
       "      <td>9.0</td>\n",
       "      <td>0</td>\n",
       "    </tr>\n",
       "    <tr>\n",
       "      <th>3</th>\n",
       "      <td>3</td>\n",
       "      <td>NaN</td>\n",
       "      <td>0.0</td>\n",
       "      <td>0.0</td>\n",
       "      <td>F</td>\n",
       "      <td>N</td>\n",
       "      <td>Red</td>\n",
       "      <td>Circle</td>\n",
       "      <td>Hamster</td>\n",
       "      <td>Finland</td>\n",
       "      <td>...</td>\n",
       "      <td>f9d456e57</td>\n",
       "      <td>1.0</td>\n",
       "      <td>Novice</td>\n",
       "      <td>Lava Hot</td>\n",
       "      <td>a</td>\n",
       "      <td>C</td>\n",
       "      <td>NaN</td>\n",
       "      <td>3.0</td>\n",
       "      <td>3.0</td>\n",
       "      <td>0</td>\n",
       "    </tr>\n",
       "    <tr>\n",
       "      <th>4</th>\n",
       "      <td>4</td>\n",
       "      <td>0.0</td>\n",
       "      <td>NaN</td>\n",
       "      <td>0.0</td>\n",
       "      <td>T</td>\n",
       "      <td>N</td>\n",
       "      <td>Red</td>\n",
       "      <td>Triangle</td>\n",
       "      <td>Hamster</td>\n",
       "      <td>Costa Rica</td>\n",
       "      <td>...</td>\n",
       "      <td>c5361037c</td>\n",
       "      <td>3.0</td>\n",
       "      <td>Grandmaster</td>\n",
       "      <td>Cold</td>\n",
       "      <td>h</td>\n",
       "      <td>C</td>\n",
       "      <td>OZ</td>\n",
       "      <td>5.0</td>\n",
       "      <td>12.0</td>\n",
       "      <td>0</td>\n",
       "    </tr>\n",
       "  </tbody>\n",
       "</table>\n",
       "<p>5 rows × 25 columns</p>\n",
       "</div>"
      ],
      "text/plain": [
       "   id  bin_0  bin_1  bin_2 bin_3 bin_4 nom_0      nom_1    nom_2       nom_3  \\\n",
       "0   0    0.0    0.0    0.0     F     N   Red  Trapezoid  Hamster      Russia   \n",
       "1   1    1.0    1.0    0.0     F     Y   Red       Star  Axolotl         NaN   \n",
       "2   2    0.0    1.0    0.0     F     N   Red        NaN  Hamster      Canada   \n",
       "3   3    NaN    0.0    0.0     F     N   Red     Circle  Hamster     Finland   \n",
       "4   4    0.0    NaN    0.0     T     N   Red   Triangle  Hamster  Costa Rica   \n",
       "\n",
       "   ...      nom_9 ord_0        ord_1     ord_2 ord_3 ord_4  ord_5  day month  \\\n",
       "0  ...  02e7c8990   3.0  Contributor       Hot     c     U     Pw  6.0   3.0   \n",
       "1  ...  f37df64af   3.0  Grandmaster      Warm     e     X     pE  7.0   7.0   \n",
       "2  ...        NaN   3.0          NaN  Freezing     n     P     eN  5.0   9.0   \n",
       "3  ...  f9d456e57   1.0       Novice  Lava Hot     a     C    NaN  3.0   3.0   \n",
       "4  ...  c5361037c   3.0  Grandmaster      Cold     h     C     OZ  5.0  12.0   \n",
       "\n",
       "  target  \n",
       "0      0  \n",
       "1      0  \n",
       "2      0  \n",
       "3      0  \n",
       "4      0  \n",
       "\n",
       "[5 rows x 25 columns]"
      ]
     },
     "execution_count": 46,
     "metadata": {},
     "output_type": "execute_result"
    }
   ],
   "source": [
    "df.head()"
   ]
  },
  {
   "cell_type": "code",
   "execution_count": 47,
   "metadata": {},
   "outputs": [
    {
     "data": {
      "text/plain": [
       "ord_2\n",
       "Boiling Hot    [3.0, 7.0, 12.0, 4.0, 5.0, 10.0, 8.0, 1.0, nan...\n",
       "Cold           [12.0, 6.0, 1.0, 8.0, 5.0, 4.0, 7.0, 11.0, 10....\n",
       "Freezing       [9.0, 5.0, 8.0, 11.0, 3.0, 1.0, 4.0, 6.0, 7.0,...\n",
       "Hot            [3.0, 4.0, 5.0, 8.0, 11.0, 12.0, nan, 6.0, 2.0...\n",
       "Lava Hot       [3.0, 8.0, 2.0, 11.0, 7.0, 4.0, 9.0, 6.0, 1.0,...\n",
       "Warm           [7.0, 5.0, nan, 3.0, 4.0, 12.0, 8.0, 11.0, 6.0...\n",
       "Name: month, dtype: object"
      ]
     },
     "execution_count": 47,
     "metadata": {},
     "output_type": "execute_result"
    }
   ],
   "source": [
    "df.groupby('ord_2')['month'].agg('unique')"
   ]
  },
  {
   "cell_type": "code",
   "execution_count": 48,
   "metadata": {},
   "outputs": [],
   "source": [
    "aggs ={}\n",
    "aggs['day'] = ['unique']\n",
    "aggs['month'] = ['unique']\n",
    "aggs['target'] = ['mean']"
   ]
  },
  {
   "cell_type": "code",
   "execution_count": 49,
   "metadata": {},
   "outputs": [
    {
     "data": {
      "text/html": [
       "<div>\n",
       "<style scoped>\n",
       "    .dataframe tbody tr th:only-of-type {\n",
       "        vertical-align: middle;\n",
       "    }\n",
       "\n",
       "    .dataframe tbody tr th {\n",
       "        vertical-align: top;\n",
       "    }\n",
       "\n",
       "    .dataframe thead tr th {\n",
       "        text-align: left;\n",
       "    }\n",
       "\n",
       "    .dataframe thead tr:last-of-type th {\n",
       "        text-align: right;\n",
       "    }\n",
       "</style>\n",
       "<table border=\"1\" class=\"dataframe\">\n",
       "  <thead>\n",
       "    <tr>\n",
       "      <th></th>\n",
       "      <th>day</th>\n",
       "      <th>month</th>\n",
       "      <th>target</th>\n",
       "    </tr>\n",
       "    <tr>\n",
       "      <th></th>\n",
       "      <th>unique</th>\n",
       "      <th>unique</th>\n",
       "      <th>mean</th>\n",
       "    </tr>\n",
       "    <tr>\n",
       "      <th>ord_2</th>\n",
       "      <th></th>\n",
       "      <th></th>\n",
       "      <th></th>\n",
       "    </tr>\n",
       "  </thead>\n",
       "  <tbody>\n",
       "    <tr>\n",
       "      <th>Boiling Hot</th>\n",
       "      <td>[6.0, 5.0, 2.0, 3.0, 7.0, 1.0, nan, 4.0]</td>\n",
       "      <td>[3.0, 7.0, 12.0, 4.0, 5.0, 10.0, 8.0, 1.0, nan...</td>\n",
       "      <td>0.244003</td>\n",
       "    </tr>\n",
       "    <tr>\n",
       "      <th>Cold</th>\n",
       "      <td>[5.0, 1.0, 7.0, 6.0, 3.0, 2.0, nan, 4.0]</td>\n",
       "      <td>[12.0, 6.0, 1.0, 8.0, 5.0, 4.0, 7.0, 11.0, 10....</td>\n",
       "      <td>0.152205</td>\n",
       "    </tr>\n",
       "    <tr>\n",
       "      <th>Freezing</th>\n",
       "      <td>[5.0, 3.0, 2.0, 7.0, 1.0, nan, 6.0, 4.0]</td>\n",
       "      <td>[9.0, 5.0, 8.0, 11.0, 3.0, 1.0, 4.0, 6.0, 7.0,...</td>\n",
       "      <td>0.132253</td>\n",
       "    </tr>\n",
       "    <tr>\n",
       "      <th>Hot</th>\n",
       "      <td>[6.0, 3.0, 7.0, 2.0, 1.0, nan, 5.0, 4.0]</td>\n",
       "      <td>[3.0, 4.0, 5.0, 8.0, 11.0, 12.0, nan, 6.0, 2.0...</td>\n",
       "      <td>0.205176</td>\n",
       "    </tr>\n",
       "    <tr>\n",
       "      <th>Lava Hot</th>\n",
       "      <td>[3.0, 1.0, 6.0, 5.0, 7.0, 2.0, 4.0, nan]</td>\n",
       "      <td>[3.0, 8.0, 2.0, 11.0, 7.0, 4.0, 9.0, 6.0, 1.0,...</td>\n",
       "      <td>0.290762</td>\n",
       "    </tr>\n",
       "    <tr>\n",
       "      <th>Warm</th>\n",
       "      <td>[7.0, 4.0, 3.0, 5.0, 1.0, 2.0, 6.0, nan]</td>\n",
       "      <td>[7.0, 5.0, nan, 3.0, 4.0, 12.0, 8.0, 11.0, 6.0...</td>\n",
       "      <td>0.175404</td>\n",
       "    </tr>\n",
       "  </tbody>\n",
       "</table>\n",
       "</div>"
      ],
      "text/plain": [
       "                                                  day  \\\n",
       "                                               unique   \n",
       "ord_2                                                   \n",
       "Boiling Hot  [6.0, 5.0, 2.0, 3.0, 7.0, 1.0, nan, 4.0]   \n",
       "Cold         [5.0, 1.0, 7.0, 6.0, 3.0, 2.0, nan, 4.0]   \n",
       "Freezing     [5.0, 3.0, 2.0, 7.0, 1.0, nan, 6.0, 4.0]   \n",
       "Hot          [6.0, 3.0, 7.0, 2.0, 1.0, nan, 5.0, 4.0]   \n",
       "Lava Hot     [3.0, 1.0, 6.0, 5.0, 7.0, 2.0, 4.0, nan]   \n",
       "Warm         [7.0, 4.0, 3.0, 5.0, 1.0, 2.0, 6.0, nan]   \n",
       "\n",
       "                                                         month    target  \n",
       "                                                        unique      mean  \n",
       "ord_2                                                                     \n",
       "Boiling Hot  [3.0, 7.0, 12.0, 4.0, 5.0, 10.0, 8.0, 1.0, nan...  0.244003  \n",
       "Cold         [12.0, 6.0, 1.0, 8.0, 5.0, 4.0, 7.0, 11.0, 10....  0.152205  \n",
       "Freezing     [9.0, 5.0, 8.0, 11.0, 3.0, 1.0, 4.0, 6.0, 7.0,...  0.132253  \n",
       "Hot          [3.0, 4.0, 5.0, 8.0, 11.0, 12.0, nan, 6.0, 2.0...  0.205176  \n",
       "Lava Hot     [3.0, 8.0, 2.0, 11.0, 7.0, 4.0, 9.0, 6.0, 1.0,...  0.290762  \n",
       "Warm         [7.0, 5.0, nan, 3.0, 4.0, 12.0, 8.0, 11.0, 6.0...  0.175404  "
      ]
     },
     "execution_count": 49,
     "metadata": {},
     "output_type": "execute_result"
    }
   ],
   "source": [
    "df.groupby('ord_2').agg(aggs)"
   ]
  },
  {
   "cell_type": "code",
   "execution_count": 75,
   "metadata": {},
   "outputs": [],
   "source": [
    "x = df.id"
   ]
  },
  {
   "cell_type": "code",
   "execution_count": 76,
   "metadata": {},
   "outputs": [],
   "source": [
    "feature_dict = {}\n",
    "\n",
    "feature_dict['mean'] = np.mean(x)\n",
    "\n",
    "feature_dict['max'] = np.max(x)\n",
    "\n",
    "feature_dict['min'] = np.min(x)\n",
    "\n",
    "feature_dict['var'] = np.var(x)\n",
    "\n",
    "feature_dict['std'] = np.std(x)\n",
    "\n",
    "feature_dict['ptp'] = np.ptp(x)\n",
    "\n",
    "feature_dict['percentile_10'] = np.percentile(x,10)\n",
    "feature_dict['percentile_60'] = np.percentile(x,60)\n",
    "feature_dict['percentile_90'] = np.percentile(x,90)\n",
    "\n",
    "feature_dict['quantile_5'] = np.quantile(x,.05)\n",
    "feature_dict['quantile_95'] = np.quantile(x,.95)\n",
    "feature_dict['quantile_99'] = np.quantile(x,.99)"
   ]
  },
  {
   "cell_type": "code",
   "execution_count": 81,
   "metadata": {},
   "outputs": [],
   "source": [
    "from tsfresh.feature_extraction import feature_calculators as fc\n",
    "feature_dict['abs_energy'] = fc.abs_energy(x)\n",
    "feature_dict['count_above_mean'] = fc.count_above_mean(x)\n",
    "feature_dict['count_below_mean'] = fc.count_below_mean(x)\n",
    "feature_dict['mean_change'] = fc.mean_change(x)\n",
    "feature_dict['mean_abs_change'] = fc.mean_abs_change(x)"
   ]
  },
  {
   "cell_type": "code",
   "execution_count": 82,
   "metadata": {},
   "outputs": [
    {
     "data": {
      "text/plain": [
       "{'mean': 299999.5,\n",
       " 'max': 599999,\n",
       " 'min': 0,\n",
       " 'var': 29999999999.916668,\n",
       " 'std': 173205.08075664716,\n",
       " 'ptp': 599999,\n",
       " 'percentile_10': 59999.9,\n",
       " 'percentile_60': 359999.39999999997,\n",
       " 'percentile_90': 539999.1,\n",
       " 'quantile_5': 29999.95,\n",
       " 'quantile_95': 569999.0499999999,\n",
       " 'quantile_99': 593999.01,\n",
       " 'abs_energy': 71999820000100000,\n",
       " 'count_above_mean': 300000,\n",
       " 'count_below_mean': 300000,\n",
       " 'mean_change': 1.0,\n",
       " 'mean_abs_change': 1.0}"
      ]
     },
     "execution_count": 82,
     "metadata": {},
     "output_type": "execute_result"
    }
   ],
   "source": [
    "feature_dict"
   ]
  },
  {
   "cell_type": "code",
   "execution_count": 101,
   "metadata": {},
   "outputs": [],
   "source": [
    "#polynomial features\n",
    "\n",
    "import numpy as np\n",
    "\n",
    "df = pd.DataFrame(\n",
    "        np.random.rand(100,2),\n",
    "        columns =[f\"f_{i}\"for i in range(1,3)])"
   ]
  },
  {
   "cell_type": "code",
   "execution_count": 102,
   "metadata": {},
   "outputs": [
    {
     "data": {
      "text/html": [
       "<div>\n",
       "<style scoped>\n",
       "    .dataframe tbody tr th:only-of-type {\n",
       "        vertical-align: middle;\n",
       "    }\n",
       "\n",
       "    .dataframe tbody tr th {\n",
       "        vertical-align: top;\n",
       "    }\n",
       "\n",
       "    .dataframe thead th {\n",
       "        text-align: right;\n",
       "    }\n",
       "</style>\n",
       "<table border=\"1\" class=\"dataframe\">\n",
       "  <thead>\n",
       "    <tr style=\"text-align: right;\">\n",
       "      <th></th>\n",
       "      <th>f_1</th>\n",
       "      <th>f_2</th>\n",
       "    </tr>\n",
       "  </thead>\n",
       "  <tbody>\n",
       "    <tr>\n",
       "      <th>0</th>\n",
       "      <td>0.659842</td>\n",
       "      <td>0.301136</td>\n",
       "    </tr>\n",
       "    <tr>\n",
       "      <th>1</th>\n",
       "      <td>0.680350</td>\n",
       "      <td>0.970311</td>\n",
       "    </tr>\n",
       "    <tr>\n",
       "      <th>2</th>\n",
       "      <td>0.766441</td>\n",
       "      <td>0.671441</td>\n",
       "    </tr>\n",
       "    <tr>\n",
       "      <th>3</th>\n",
       "      <td>0.946670</td>\n",
       "      <td>0.762951</td>\n",
       "    </tr>\n",
       "    <tr>\n",
       "      <th>4</th>\n",
       "      <td>0.772258</td>\n",
       "      <td>0.410841</td>\n",
       "    </tr>\n",
       "  </tbody>\n",
       "</table>\n",
       "</div>"
      ],
      "text/plain": [
       "        f_1       f_2\n",
       "0  0.659842  0.301136\n",
       "1  0.680350  0.970311\n",
       "2  0.766441  0.671441\n",
       "3  0.946670  0.762951\n",
       "4  0.772258  0.410841"
      ]
     },
     "execution_count": 102,
     "metadata": {},
     "output_type": "execute_result"
    }
   ],
   "source": [
    "df.head()"
   ]
  },
  {
   "cell_type": "code",
   "execution_count": 104,
   "metadata": {},
   "outputs": [
    {
     "data": {
      "text/html": [
       "<div>\n",
       "<style scoped>\n",
       "    .dataframe tbody tr th:only-of-type {\n",
       "        vertical-align: middle;\n",
       "    }\n",
       "\n",
       "    .dataframe tbody tr th {\n",
       "        vertical-align: top;\n",
       "    }\n",
       "\n",
       "    .dataframe thead th {\n",
       "        text-align: right;\n",
       "    }\n",
       "</style>\n",
       "<table border=\"1\" class=\"dataframe\">\n",
       "  <thead>\n",
       "    <tr style=\"text-align: right;\">\n",
       "      <th></th>\n",
       "      <th>f_1</th>\n",
       "      <th>f_2</th>\n",
       "      <th>f_3</th>\n",
       "      <th>f_4</th>\n",
       "      <th>f_5</th>\n",
       "    </tr>\n",
       "  </thead>\n",
       "  <tbody>\n",
       "    <tr>\n",
       "      <th>0</th>\n",
       "      <td>0.659842</td>\n",
       "      <td>0.301136</td>\n",
       "      <td>0.435392</td>\n",
       "      <td>0.198702</td>\n",
       "      <td>0.090683</td>\n",
       "    </tr>\n",
       "    <tr>\n",
       "      <th>1</th>\n",
       "      <td>0.680350</td>\n",
       "      <td>0.970311</td>\n",
       "      <td>0.462877</td>\n",
       "      <td>0.660152</td>\n",
       "      <td>0.941504</td>\n",
       "    </tr>\n",
       "    <tr>\n",
       "      <th>2</th>\n",
       "      <td>0.766441</td>\n",
       "      <td>0.671441</td>\n",
       "      <td>0.587432</td>\n",
       "      <td>0.514620</td>\n",
       "      <td>0.450833</td>\n",
       "    </tr>\n",
       "    <tr>\n",
       "      <th>3</th>\n",
       "      <td>0.946670</td>\n",
       "      <td>0.762951</td>\n",
       "      <td>0.896184</td>\n",
       "      <td>0.722263</td>\n",
       "      <td>0.582094</td>\n",
       "    </tr>\n",
       "    <tr>\n",
       "      <th>4</th>\n",
       "      <td>0.772258</td>\n",
       "      <td>0.410841</td>\n",
       "      <td>0.596383</td>\n",
       "      <td>0.317276</td>\n",
       "      <td>0.168791</td>\n",
       "    </tr>\n",
       "  </tbody>\n",
       "</table>\n",
       "</div>"
      ],
      "text/plain": [
       "        f_1       f_2       f_3       f_4       f_5\n",
       "0  0.659842  0.301136  0.435392  0.198702  0.090683\n",
       "1  0.680350  0.970311  0.462877  0.660152  0.941504\n",
       "2  0.766441  0.671441  0.587432  0.514620  0.450833\n",
       "3  0.946670  0.762951  0.896184  0.722263  0.582094\n",
       "4  0.772258  0.410841  0.596383  0.317276  0.168791"
      ]
     },
     "execution_count": 104,
     "metadata": {},
     "output_type": "execute_result"
    }
   ],
   "source": [
    "from sklearn import preprocessing\n",
    "\n",
    "pf = preprocessing.PolynomialFeatures(\n",
    "        degree = 2,\n",
    "        interaction_only = False,\n",
    "        include_bias = False)\n",
    "\n",
    "pf.fit(df)\n",
    "poly_feats = pf.transform(df)\n",
    "\n",
    "num_feats = poly_feats.shape[1]\n",
    "\n",
    "df_transformed = pd.DataFrame(\n",
    "                    poly_feats,\n",
    "                    columns = [f\"f_{i}\" for i in range(1,num_feats+1)])\n",
    "\n",
    "df_transformed.head()"
   ]
  },
  {
   "cell_type": "code",
   "execution_count": 105,
   "metadata": {},
   "outputs": [
    {
     "data": {
      "text/html": [
       "<div>\n",
       "<style scoped>\n",
       "    .dataframe tbody tr th:only-of-type {\n",
       "        vertical-align: middle;\n",
       "    }\n",
       "\n",
       "    .dataframe tbody tr th {\n",
       "        vertical-align: top;\n",
       "    }\n",
       "\n",
       "    .dataframe thead th {\n",
       "        text-align: right;\n",
       "    }\n",
       "</style>\n",
       "<table border=\"1\" class=\"dataframe\">\n",
       "  <thead>\n",
       "    <tr style=\"text-align: right;\">\n",
       "      <th></th>\n",
       "      <th>f_1</th>\n",
       "      <th>f_2</th>\n",
       "    </tr>\n",
       "  </thead>\n",
       "  <tbody>\n",
       "    <tr>\n",
       "      <th>0</th>\n",
       "      <td>0.659842</td>\n",
       "      <td>0.301136</td>\n",
       "    </tr>\n",
       "    <tr>\n",
       "      <th>1</th>\n",
       "      <td>0.680350</td>\n",
       "      <td>0.970311</td>\n",
       "    </tr>\n",
       "    <tr>\n",
       "      <th>2</th>\n",
       "      <td>0.766441</td>\n",
       "      <td>0.671441</td>\n",
       "    </tr>\n",
       "    <tr>\n",
       "      <th>3</th>\n",
       "      <td>0.946670</td>\n",
       "      <td>0.762951</td>\n",
       "    </tr>\n",
       "    <tr>\n",
       "      <th>4</th>\n",
       "      <td>0.772258</td>\n",
       "      <td>0.410841</td>\n",
       "    </tr>\n",
       "  </tbody>\n",
       "</table>\n",
       "</div>"
      ],
      "text/plain": [
       "        f_1       f_2\n",
       "0  0.659842  0.301136\n",
       "1  0.680350  0.970311\n",
       "2  0.766441  0.671441\n",
       "3  0.946670  0.762951\n",
       "4  0.772258  0.410841"
      ]
     },
     "execution_count": 105,
     "metadata": {},
     "output_type": "execute_result"
    }
   ],
   "source": [
    "df.head()"
   ]
  },
  {
   "cell_type": "code",
   "execution_count": 116,
   "metadata": {},
   "outputs": [],
   "source": [
    "##binning\n",
    "df['f_bin_10'] = pd.cut(df['f_1'], bins = 10, labels = False )\n",
    "df['f_bin_100'] = pd.cut(df['f_1'], bins = 100, labels = False )"
   ]
  },
  {
   "cell_type": "code",
   "execution_count": 118,
   "metadata": {},
   "outputs": [
    {
     "data": {
      "text/html": [
       "<div>\n",
       "<style scoped>\n",
       "    .dataframe tbody tr th:only-of-type {\n",
       "        vertical-align: middle;\n",
       "    }\n",
       "\n",
       "    .dataframe tbody tr th {\n",
       "        vertical-align: top;\n",
       "    }\n",
       "\n",
       "    .dataframe thead th {\n",
       "        text-align: right;\n",
       "    }\n",
       "</style>\n",
       "<table border=\"1\" class=\"dataframe\">\n",
       "  <thead>\n",
       "    <tr style=\"text-align: right;\">\n",
       "      <th></th>\n",
       "      <th>f_1</th>\n",
       "      <th>f_2</th>\n",
       "      <th>f_bin_10</th>\n",
       "      <th>f_bin_100</th>\n",
       "    </tr>\n",
       "  </thead>\n",
       "  <tbody>\n",
       "    <tr>\n",
       "      <th>0</th>\n",
       "      <td>0.659842</td>\n",
       "      <td>0.301136</td>\n",
       "      <td>6</td>\n",
       "      <td>67</td>\n",
       "    </tr>\n",
       "    <tr>\n",
       "      <th>1</th>\n",
       "      <td>0.680350</td>\n",
       "      <td>0.970311</td>\n",
       "      <td>7</td>\n",
       "      <td>70</td>\n",
       "    </tr>\n",
       "    <tr>\n",
       "      <th>2</th>\n",
       "      <td>0.766441</td>\n",
       "      <td>0.671441</td>\n",
       "      <td>7</td>\n",
       "      <td>79</td>\n",
       "    </tr>\n",
       "    <tr>\n",
       "      <th>3</th>\n",
       "      <td>0.946670</td>\n",
       "      <td>0.762951</td>\n",
       "      <td>9</td>\n",
       "      <td>98</td>\n",
       "    </tr>\n",
       "    <tr>\n",
       "      <th>4</th>\n",
       "      <td>0.772258</td>\n",
       "      <td>0.410841</td>\n",
       "      <td>7</td>\n",
       "      <td>79</td>\n",
       "    </tr>\n",
       "  </tbody>\n",
       "</table>\n",
       "</div>"
      ],
      "text/plain": [
       "        f_1       f_2  f_bin_10  f_bin_100\n",
       "0  0.659842  0.301136         6         67\n",
       "1  0.680350  0.970311         7         70\n",
       "2  0.766441  0.671441         7         79\n",
       "3  0.946670  0.762951         9         98\n",
       "4  0.772258  0.410841         7         79"
      ]
     },
     "execution_count": 118,
     "metadata": {},
     "output_type": "execute_result"
    }
   ],
   "source": [
    "df.head()"
   ]
  },
  {
   "cell_type": "code",
   "execution_count": 137,
   "metadata": {},
   "outputs": [],
   "source": [
    "#FILLING MISSING VALUES WITH K NEAREST NEIGHBOUR\n",
    "\n",
    "import numpy as np\n",
    "from sklearn import impute\n",
    "\n",
    "\n",
    "X = np.random.randint(1,15,(10,6))\n",
    "X = X.astype(float)\n",
    "\n",
    "\n",
    "X.ravel()[np.random.choice(X.size,10,replace = False)] = np.nan"
   ]
  },
  {
   "cell_type": "code",
   "execution_count": 138,
   "metadata": {},
   "outputs": [
    {
     "data": {
      "text/plain": [
       "array([[10.,  2., 11., nan, nan,  3.],\n",
       "       [ 8.,  1.,  1.,  1.,  5., 12.],\n",
       "       [nan,  8.,  5., 11., nan,  3.],\n",
       "       [nan,  6., 10.,  2.,  5.,  9.],\n",
       "       [ 5., nan,  2.,  6., 14., nan],\n",
       "       [ 5.,  2.,  8.,  2.,  1.,  9.],\n",
       "       [ 1.,  1.,  5.,  1., 11.,  6.],\n",
       "       [ 6., nan,  9.,  8., 11.,  8.],\n",
       "       [ 1.,  9.,  9., 11., nan,  5.],\n",
       "       [ 8.,  9.,  7.,  4., 12., nan]])"
      ]
     },
     "execution_count": 138,
     "metadata": {},
     "output_type": "execute_result"
    }
   ],
   "source": [
    "X"
   ]
  },
  {
   "cell_type": "code",
   "execution_count": 141,
   "metadata": {},
   "outputs": [
    {
     "data": {
      "text/plain": [
       "array([[10. ,  2. , 11. ,  5. ,  6. ,  3. ],\n",
       "       [ 8. ,  1. ,  1. ,  1. ,  5. , 12. ],\n",
       "       [ 3.5,  8. ,  5. , 11. , 12.5,  3. ],\n",
       "       [ 7.5,  6. , 10. ,  2. ,  5. ,  9. ],\n",
       "       [ 5. ,  5. ,  2. ,  6. , 14. ,  7. ],\n",
       "       [ 5. ,  2. ,  8. ,  2. ,  1. ,  9. ],\n",
       "       [ 1. ,  1. ,  5. ,  1. , 11. ,  6. ],\n",
       "       [ 6. ,  9. ,  9. ,  8. , 11. ,  8. ],\n",
       "       [ 1. ,  9. ,  9. , 11. , 11.5,  5. ],\n",
       "       [ 8. ,  9. ,  7. ,  4. , 12. ,  8.5]])"
      ]
     },
     "execution_count": 141,
     "metadata": {},
     "output_type": "execute_result"
    }
   ],
   "source": [
    "knn_imputer = impute.KNNImputer(n_neighbors = 2)\n",
    "knn_imputer.fit_transform(X)"
   ]
  },
  {
   "cell_type": "code",
   "execution_count": null,
   "metadata": {},
   "outputs": [],
   "source": []
  },
  {
   "cell_type": "code",
   "execution_count": null,
   "metadata": {},
   "outputs": [],
   "source": []
  },
  {
   "cell_type": "code",
   "execution_count": null,
   "metadata": {},
   "outputs": [],
   "source": []
  },
  {
   "cell_type": "code",
   "execution_count": null,
   "metadata": {},
   "outputs": [],
   "source": []
  },
  {
   "cell_type": "code",
   "execution_count": null,
   "metadata": {},
   "outputs": [],
   "source": []
  }
 ],
 "metadata": {
  "kernelspec": {
   "display_name": "ml",
   "language": "python",
   "name": "ml"
  },
  "language_info": {
   "codemirror_mode": {
    "name": "ipython",
    "version": 3
   },
   "file_extension": ".py",
   "mimetype": "text/x-python",
   "name": "python",
   "nbconvert_exporter": "python",
   "pygments_lexer": "ipython3",
   "version": "3.7.7"
  }
 },
 "nbformat": 4,
 "nbformat_minor": 4
}
